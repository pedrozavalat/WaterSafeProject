{
 "cells": [
  {
   "cell_type": "code",
   "execution_count": 1,
   "metadata": {},
   "outputs": [
    {
     "name": "stderr",
     "output_type": "stream",
     "text": [
      "/Users/pedro/miniforge3/envs/cv/lib/python3.10/site-packages/tqdm/auto.py:21: TqdmWarning: IProgress not found. Please update jupyter and ipywidgets. See https://ipywidgets.readthedocs.io/en/stable/user_install.html\n",
      "  from .autonotebook import tqdm as notebook_tqdm\n"
     ]
    }
   ],
   "source": [
    "import pandas as pd\n",
    "import numpy as np\n",
    "import matplotlib.pyplot as plt\n",
    "from sklearn.preprocessing import MinMaxScaler, StandardScaler\n",
    "from sklearn.model_selection import train_test_split\n",
    "from sklearn.neighbors import LocalOutlierFactor, NearestNeighbors\n",
    "from sklearn.decomposition import PCA\n",
    "from sklearn import cluster, manifold\n",
    "from sklearn.cluster import cluster_optics_dbscan\n",
    "from sklearn.metrics import silhouette_samples, silhouette_score, confusion_matrix, ConfusionMatrixDisplay, classification_report, accuracy_score\n",
    "from sklearn.cluster import KMeans\n",
    "from sklearn.metrics import silhouette_score\n",
    "from sklearn.svm import SVC\n",
    "from umap.umap_ import UMAP\n",
    "from sklearn.pipeline import make_pipeline\n",
    "import matplotlib.cm as cm\n",
    "import seaborn as sns"
   ]
  },
  {
   "cell_type": "markdown",
   "metadata": {},
   "source": [
    "# Nulls"
   ]
  },
  {
   "cell_type": "code",
   "execution_count": 2,
   "metadata": {},
   "outputs": [
    {
     "data": {
      "text/plain": [
       "Index(['ph', 'Hardness', 'Solids', 'Chloramines', 'Sulfate', 'Conductivity',\n",
       "       'Organic_carbon', 'Trihalomethanes', 'Turbidity', 'Potability'],\n",
       "      dtype='object')"
      ]
     },
     "execution_count": 2,
     "metadata": {},
     "output_type": "execute_result"
    }
   ],
   "source": [
    "data = pd.read_csv('../data/water_potability.csv')\n",
    "data.columns"
   ]
  },
  {
   "cell_type": "code",
   "execution_count": 3,
   "metadata": {},
   "outputs": [
    {
     "data": {
      "text/html": [
       "<div>\n",
       "<style scoped>\n",
       "    .dataframe tbody tr th:only-of-type {\n",
       "        vertical-align: middle;\n",
       "    }\n",
       "\n",
       "    .dataframe tbody tr th {\n",
       "        vertical-align: top;\n",
       "    }\n",
       "\n",
       "    .dataframe thead th {\n",
       "        text-align: right;\n",
       "    }\n",
       "</style>\n",
       "<table border=\"1\" class=\"dataframe\">\n",
       "  <thead>\n",
       "    <tr style=\"text-align: right;\">\n",
       "      <th></th>\n",
       "      <th>ph</th>\n",
       "      <th>Hardness</th>\n",
       "      <th>Solids</th>\n",
       "      <th>Chloramines</th>\n",
       "      <th>Sulfate</th>\n",
       "      <th>Conductivity</th>\n",
       "      <th>Organic_carbon</th>\n",
       "      <th>Trihalomethanes</th>\n",
       "      <th>Turbidity</th>\n",
       "      <th>Potability</th>\n",
       "    </tr>\n",
       "  </thead>\n",
       "  <tbody>\n",
       "    <tr>\n",
       "      <th>0</th>\n",
       "      <td>NaN</td>\n",
       "      <td>204.890455</td>\n",
       "      <td>20791.318981</td>\n",
       "      <td>7.300212</td>\n",
       "      <td>368.516441</td>\n",
       "      <td>564.308654</td>\n",
       "      <td>10.379783</td>\n",
       "      <td>86.990970</td>\n",
       "      <td>2.963135</td>\n",
       "      <td>0</td>\n",
       "    </tr>\n",
       "    <tr>\n",
       "      <th>1</th>\n",
       "      <td>3.716080</td>\n",
       "      <td>129.422921</td>\n",
       "      <td>18630.057858</td>\n",
       "      <td>6.635246</td>\n",
       "      <td>NaN</td>\n",
       "      <td>592.885359</td>\n",
       "      <td>15.180013</td>\n",
       "      <td>56.329076</td>\n",
       "      <td>4.500656</td>\n",
       "      <td>0</td>\n",
       "    </tr>\n",
       "    <tr>\n",
       "      <th>2</th>\n",
       "      <td>8.099124</td>\n",
       "      <td>224.236259</td>\n",
       "      <td>19909.541732</td>\n",
       "      <td>9.275884</td>\n",
       "      <td>NaN</td>\n",
       "      <td>418.606213</td>\n",
       "      <td>16.868637</td>\n",
       "      <td>66.420093</td>\n",
       "      <td>3.055934</td>\n",
       "      <td>0</td>\n",
       "    </tr>\n",
       "    <tr>\n",
       "      <th>3</th>\n",
       "      <td>8.316766</td>\n",
       "      <td>214.373394</td>\n",
       "      <td>22018.417441</td>\n",
       "      <td>8.059332</td>\n",
       "      <td>356.886136</td>\n",
       "      <td>363.266516</td>\n",
       "      <td>18.436524</td>\n",
       "      <td>100.341674</td>\n",
       "      <td>4.628771</td>\n",
       "      <td>0</td>\n",
       "    </tr>\n",
       "    <tr>\n",
       "      <th>4</th>\n",
       "      <td>9.092223</td>\n",
       "      <td>181.101509</td>\n",
       "      <td>17978.986339</td>\n",
       "      <td>6.546600</td>\n",
       "      <td>310.135738</td>\n",
       "      <td>398.410813</td>\n",
       "      <td>11.558279</td>\n",
       "      <td>31.997993</td>\n",
       "      <td>4.075075</td>\n",
       "      <td>0</td>\n",
       "    </tr>\n",
       "    <tr>\n",
       "      <th>...</th>\n",
       "      <td>...</td>\n",
       "      <td>...</td>\n",
       "      <td>...</td>\n",
       "      <td>...</td>\n",
       "      <td>...</td>\n",
       "      <td>...</td>\n",
       "      <td>...</td>\n",
       "      <td>...</td>\n",
       "      <td>...</td>\n",
       "      <td>...</td>\n",
       "    </tr>\n",
       "    <tr>\n",
       "      <th>3271</th>\n",
       "      <td>4.668102</td>\n",
       "      <td>193.681735</td>\n",
       "      <td>47580.991603</td>\n",
       "      <td>7.166639</td>\n",
       "      <td>359.948574</td>\n",
       "      <td>526.424171</td>\n",
       "      <td>13.894419</td>\n",
       "      <td>66.687695</td>\n",
       "      <td>4.435821</td>\n",
       "      <td>1</td>\n",
       "    </tr>\n",
       "    <tr>\n",
       "      <th>3272</th>\n",
       "      <td>7.808856</td>\n",
       "      <td>193.553212</td>\n",
       "      <td>17329.802160</td>\n",
       "      <td>8.061362</td>\n",
       "      <td>NaN</td>\n",
       "      <td>392.449580</td>\n",
       "      <td>19.903225</td>\n",
       "      <td>NaN</td>\n",
       "      <td>2.798243</td>\n",
       "      <td>1</td>\n",
       "    </tr>\n",
       "    <tr>\n",
       "      <th>3273</th>\n",
       "      <td>9.419510</td>\n",
       "      <td>175.762646</td>\n",
       "      <td>33155.578218</td>\n",
       "      <td>7.350233</td>\n",
       "      <td>NaN</td>\n",
       "      <td>432.044783</td>\n",
       "      <td>11.039070</td>\n",
       "      <td>69.845400</td>\n",
       "      <td>3.298875</td>\n",
       "      <td>1</td>\n",
       "    </tr>\n",
       "    <tr>\n",
       "      <th>3274</th>\n",
       "      <td>5.126763</td>\n",
       "      <td>230.603758</td>\n",
       "      <td>11983.869376</td>\n",
       "      <td>6.303357</td>\n",
       "      <td>NaN</td>\n",
       "      <td>402.883113</td>\n",
       "      <td>11.168946</td>\n",
       "      <td>77.488213</td>\n",
       "      <td>4.708658</td>\n",
       "      <td>1</td>\n",
       "    </tr>\n",
       "    <tr>\n",
       "      <th>3275</th>\n",
       "      <td>7.874671</td>\n",
       "      <td>195.102299</td>\n",
       "      <td>17404.177061</td>\n",
       "      <td>7.509306</td>\n",
       "      <td>NaN</td>\n",
       "      <td>327.459760</td>\n",
       "      <td>16.140368</td>\n",
       "      <td>78.698446</td>\n",
       "      <td>2.309149</td>\n",
       "      <td>1</td>\n",
       "    </tr>\n",
       "  </tbody>\n",
       "</table>\n",
       "<p>3276 rows × 10 columns</p>\n",
       "</div>"
      ],
      "text/plain": [
       "            ph    Hardness        Solids  Chloramines     Sulfate  \\\n",
       "0          NaN  204.890455  20791.318981     7.300212  368.516441   \n",
       "1     3.716080  129.422921  18630.057858     6.635246         NaN   \n",
       "2     8.099124  224.236259  19909.541732     9.275884         NaN   \n",
       "3     8.316766  214.373394  22018.417441     8.059332  356.886136   \n",
       "4     9.092223  181.101509  17978.986339     6.546600  310.135738   \n",
       "...        ...         ...           ...          ...         ...   \n",
       "3271  4.668102  193.681735  47580.991603     7.166639  359.948574   \n",
       "3272  7.808856  193.553212  17329.802160     8.061362         NaN   \n",
       "3273  9.419510  175.762646  33155.578218     7.350233         NaN   \n",
       "3274  5.126763  230.603758  11983.869376     6.303357         NaN   \n",
       "3275  7.874671  195.102299  17404.177061     7.509306         NaN   \n",
       "\n",
       "      Conductivity  Organic_carbon  Trihalomethanes  Turbidity  Potability  \n",
       "0       564.308654       10.379783        86.990970   2.963135           0  \n",
       "1       592.885359       15.180013        56.329076   4.500656           0  \n",
       "2       418.606213       16.868637        66.420093   3.055934           0  \n",
       "3       363.266516       18.436524       100.341674   4.628771           0  \n",
       "4       398.410813       11.558279        31.997993   4.075075           0  \n",
       "...            ...             ...              ...        ...         ...  \n",
       "3271    526.424171       13.894419        66.687695   4.435821           1  \n",
       "3272    392.449580       19.903225              NaN   2.798243           1  \n",
       "3273    432.044783       11.039070        69.845400   3.298875           1  \n",
       "3274    402.883113       11.168946        77.488213   4.708658           1  \n",
       "3275    327.459760       16.140368        78.698446   2.309149           1  \n",
       "\n",
       "[3276 rows x 10 columns]"
      ]
     },
     "execution_count": 3,
     "metadata": {},
     "output_type": "execute_result"
    }
   ],
   "source": [
    "data"
   ]
  },
  {
   "cell_type": "code",
   "execution_count": 4,
   "metadata": {},
   "outputs": [
    {
     "data": {
      "text/plain": [
       "ph                 491\n",
       "Hardness             0\n",
       "Solids               0\n",
       "Chloramines          0\n",
       "Sulfate            781\n",
       "Conductivity         0\n",
       "Organic_carbon       0\n",
       "Trihalomethanes    162\n",
       "Turbidity            0\n",
       "Potability           0\n",
       "dtype: int64"
      ]
     },
     "execution_count": 4,
     "metadata": {},
     "output_type": "execute_result"
    }
   ],
   "source": [
    "data.isnull().sum()"
   ]
  },
  {
   "cell_type": "code",
   "execution_count": 5,
   "metadata": {},
   "outputs": [],
   "source": [
    "# fill the null values with the mean\n",
    "data['ph'].fillna((data['ph'].mean()), inplace=True)\n",
    "data['Sulfate'].fillna((data['Sulfate'].mean()), inplace=True)\n",
    "data['Trihalomethanes'].fillna((data['Trihalomethanes'].mean()), inplace=True)\n"
   ]
  },
  {
   "cell_type": "code",
   "execution_count": 6,
   "metadata": {},
   "outputs": [
    {
     "data": {
      "text/plain": [
       "ph                 0\n",
       "Hardness           0\n",
       "Solids             0\n",
       "Chloramines        0\n",
       "Sulfate            0\n",
       "Conductivity       0\n",
       "Organic_carbon     0\n",
       "Trihalomethanes    0\n",
       "Turbidity          0\n",
       "Potability         0\n",
       "dtype: int64"
      ]
     },
     "execution_count": 6,
     "metadata": {},
     "output_type": "execute_result"
    }
   ],
   "source": [
    "data.isnull().sum()"
   ]
  },
  {
   "cell_type": "code",
   "execution_count": 7,
   "metadata": {},
   "outputs": [],
   "source": [
    "Y = data['Potability']\n",
    "X = data.drop(columns=['Potability'])"
   ]
  },
  {
   "cell_type": "markdown",
   "metadata": {},
   "source": [
    "# Outliers"
   ]
  },
  {
   "cell_type": "code",
   "execution_count": 8,
   "metadata": {},
   "outputs": [],
   "source": [
    "data_minmax = MinMaxScaler().fit_transform(X.values)\n",
    "pca = PCA(0.95, whiten=True)\n",
    "data_pca = pca.fit_transform(X.values) "
   ]
  },
  {
   "cell_type": "code",
   "execution_count": 9,
   "metadata": {},
   "outputs": [],
   "source": [
    "lof = LocalOutlierFactor(n_neighbors=5, metric='euclidean')\n",
    "lof.fit_predict(data_pca)\n",
    "scores = lof.negative_outlier_factor_"
   ]
  },
  {
   "cell_type": "code",
   "execution_count": 10,
   "metadata": {},
   "outputs": [
    {
     "data": {
      "image/png": "[encoded data removed]",
      "text/plain": [
       "<Figure size 640x480 with 1 Axes>"
      ]
     },
     "metadata": {},
     "output_type": "display_data"
    }
   ],
   "source": [
    "def plot_hist(X: pd.DataFrame, title: str) -> None:\n",
    "    \"\"\" Funcion que genera un grafico de los valores de LOF del dataset \"\"\"\n",
    "    x, bins, patches = plt.hist(x=X, bins='auto', rwidth=0.65, color='darkred')\n",
    "    plt.grid(axis='y')\n",
    "    plt.xlabel('LOF')\n",
    "    plt.ylabel('Frequency')\n",
    "    plt.title(title)\n",
    "    maxfreq = x.max()\n",
    "    plt.ylim(ymax=np.ceil(maxfreq))\n",
    "    \n",
    "plot_hist(scores, 'LOF')"
   ]
  },
  {
   "cell_type": "code",
   "execution_count": 11,
   "metadata": {},
   "outputs": [
    {
     "data": {
      "text/plain": [
       "0.0027472527472527475"
      ]
     },
     "execution_count": 11,
     "metadata": {},
     "output_type": "execute_result"
    }
   ],
   "source": [
    "# Dado el grafico anterior, diremos que un umbral de corte sera aproximadamente -1.85\n",
    "def lof_threshold(v: float, scores: np.ndarray) -> float:\n",
    "    ''' Retorna la contaminacion del medio '''\n",
    "    N = len(scores)\n",
    "    points = scores[scores < v]\n",
    "    threshold = len(points)/N\n",
    "    return threshold \n",
    "\n",
    "lof_threshold(-2.5, scores) # APROXimadamente -2.5"
   ]
  },
  {
   "cell_type": "code",
   "execution_count": 12,
   "metadata": {},
   "outputs": [],
   "source": [
    "lof = LocalOutlierFactor(n_neighbors=5, metric='euclidean', contamination=0.0027472527472527475)\n",
    "labels = lof.fit_predict(X.values)\n",
    "indices = list(np.where(labels==1)[0])\n",
    "X = X.iloc[indices] # actualizamos la cant. de datos para ambos\n",
    "Y = Y[indices]"
   ]
  },
  {
   "cell_type": "code",
   "execution_count": 13,
   "metadata": {},
   "outputs": [
    {
     "name": "stdout",
     "output_type": "stream",
     "text": [
      "(3267, 9) (3267,)\n"
     ]
    }
   ],
   "source": [
    "print(X.shape, Y.shape)"
   ]
  },
  {
   "cell_type": "markdown",
   "metadata": {},
   "source": [
    "# Normalizacion\n"
   ]
  },
  {
   "cell_type": "code",
   "execution_count": 14,
   "metadata": {},
   "outputs": [],
   "source": [
    "X_scaled = MinMaxScaler().fit_transform(X.values)"
   ]
  },
  {
   "cell_type": "code",
   "execution_count": 15,
   "metadata": {},
   "outputs": [
    {
     "data": {
      "image/png": "[encoded data removed]",
      "text/plain": [
       "<Figure size 640x480 with 1 Axes>"
      ]
     },
     "metadata": {},
     "output_type": "display_data"
    }
   ],
   "source": [
    "plt.scatter(X_scaled[:, 0], X_scaled[:, 1], s=2)\n",
    "plt.show()"
   ]
  },
  {
   "cell_type": "markdown",
   "metadata": {},
   "source": [
    "# Hipermarametros SVM a utilizar\n"
   ]
  },
  {
   "cell_type": "code",
   "execution_count": 16,
   "metadata": {},
   "outputs": [],
   "source": [
    "KERNELS = ['linear', 'poly', 'rbf', 'sigmoid'] \n",
    "DEGREES = [2, 3, 4, 5, 6] \n",
    "CVALUES = [0.0001, 0.001, 0.01, 0.1, 1, 10, 20, 50, 100]  # limitamos a 100 por que toma mucho tiempo para valores mayores"
   ]
  },
  {
   "cell_type": "markdown",
   "metadata": {},
   "source": [
    "# SVM (version hard)\n"
   ]
  },
  {
   "cell_type": "code",
   "execution_count": 17,
   "metadata": {},
   "outputs": [],
   "source": [
    "X_train, X_test, y_train, y_test = train_test_split(X_scaled, Y, test_size=0.3, stratify=Y)"
   ]
  },
  {
   "cell_type": "code",
   "execution_count": 18,
   "metadata": {},
   "outputs": [
    {
     "name": "stdout",
     "output_type": "stream",
     "text": [
      "For kernel = linear With C value =  0.0001 The accuracy is : 0.6095820591233435\n",
      "For kernel = linear With C value =  0.001 The accuracy is : 0.6095820591233435\n",
      "For kernel = linear With C value =  0.01 The accuracy is : 0.6095820591233435\n",
      "For kernel = linear With C value =  0.1 The accuracy is : 0.6095820591233435\n",
      "For kernel = linear With C value =  1 The accuracy is : 0.6095820591233435\n",
      "For kernel = linear With C value =  10 The accuracy is : 0.6095820591233435\n",
      "For kernel = linear With C value =  20 The accuracy is : 0.6095820591233435\n",
      "For kernel = linear With C value =  50 The accuracy is : 0.6095820591233435\n",
      "For kernel = linear With C value =  100 The accuracy is : 0.6095820591233435\n",
      "For kernel = poly with degree = 2 with C value =  0.0001 The accuracy is : 0.6095820591233435\n",
      "For kernel = poly with degree = 3 with C value =  0.0001 The accuracy is : 0.6095820591233435\n",
      "For kernel = poly with degree = 4 with C value =  0.0001 The accuracy is : 0.6095820591233435\n",
      "For kernel = poly with degree = 5 with C value =  0.0001 The accuracy is : 0.6095820591233435\n",
      "For kernel = poly with degree = 6 with C value =  0.0001 The accuracy is : 0.6095820591233435\n",
      "For kernel = poly with degree = 2 with C value =  0.001 The accuracy is : 0.6095820591233435\n",
      "For kernel = poly with degree = 3 with C value =  0.001 The accuracy is : 0.6095820591233435\n",
      "For kernel = poly with degree = 4 with C value =  0.001 The accuracy is : 0.6095820591233435\n",
      "For kernel = poly with degree = 5 with C value =  0.001 The accuracy is : 0.6095820591233435\n",
      "For kernel = poly with degree = 6 with C value =  0.001 The accuracy is : 0.6116207951070336\n",
      "For kernel = poly with degree = 2 with C value =  0.01 The accuracy is : 0.6116207951070336\n",
      "For kernel = poly with degree = 3 with C value =  0.01 The accuracy is : 0.6095820591233435\n",
      "For kernel = poly with degree = 4 with C value =  0.01 The accuracy is : 0.6218144750254841\n",
      "For kernel = poly with degree = 5 with C value =  0.01 The accuracy is : 0.6106014271151886\n",
      "For kernel = poly with degree = 6 with C value =  0.01 The accuracy is : 0.6309887869520897\n",
      "For kernel = poly with degree = 2 with C value =  0.1 The accuracy is : 0.6585117227319062\n",
      "For kernel = poly with degree = 3 with C value =  0.1 The accuracy is : 0.6116207951070336\n",
      "For kernel = poly with degree = 4 with C value =  0.1 The accuracy is : 0.6523955147808359\n",
      "For kernel = poly with degree = 5 with C value =  0.1 The accuracy is : 0.6187563710499491\n",
      "For kernel = poly with degree = 6 with C value =  0.1 The accuracy is : 0.6554536187563711\n",
      "For kernel = poly with degree = 2 with C value =  1 The accuracy is : 0.6697247706422018\n",
      "For kernel = poly with degree = 3 with C value =  1 The accuracy is : 0.6146788990825688\n",
      "For kernel = poly with degree = 4 with C value =  1 The accuracy is : 0.6656472986748216\n",
      "For kernel = poly with degree = 5 with C value =  1 The accuracy is : 0.6055045871559633\n",
      "For kernel = poly with degree = 6 with C value =  1 The accuracy is : 0.6585117227319062\n",
      "For kernel = poly with degree = 2 with C value =  10 The accuracy is : 0.6697247706422018\n",
      "For kernel = poly with degree = 3 with C value =  10 The accuracy is : 0.6065239551478083\n",
      "For kernel = poly with degree = 4 with C value =  10 The accuracy is : 0.6462793068297655\n",
      "For kernel = poly with degree = 5 with C value =  10 The accuracy is : 0.5912334352701325\n",
      "For kernel = poly with degree = 6 with C value =  10 The accuracy is : 0.636085626911315\n",
      "For kernel = poly with degree = 2 with C value =  20 The accuracy is : 0.6697247706422018\n",
      "For kernel = poly with degree = 3 with C value =  20 The accuracy is : 0.6075433231396534\n",
      "For kernel = poly with degree = 4 with C value =  20 The accuracy is : 0.6554536187563711\n",
      "For kernel = poly with degree = 5 with C value =  20 The accuracy is : 0.5891946992864424\n",
      "For kernel = poly with degree = 6 with C value =  20 The accuracy is : 0.6330275229357798\n",
      "For kernel = poly with degree = 2 with C value =  50 The accuracy is : 0.6697247706422018\n",
      "For kernel = poly with degree = 3 with C value =  50 The accuracy is : 0.6065239551478083\n",
      "For kernel = poly with degree = 4 with C value =  50 The accuracy is : 0.654434250764526\n",
      "For kernel = poly with degree = 5 with C value =  50 The accuracy is : 0.5575942915392457\n",
      "For kernel = poly with degree = 6 with C value =  50 The accuracy is : 0.6340468909276249\n",
      "For kernel = poly with degree = 2 with C value =  100 The accuracy is : 0.6687054026503568\n",
      "For kernel = poly with degree = 3 with C value =  100 The accuracy is : 0.6044852191641182\n",
      "For kernel = poly with degree = 4 with C value =  100 The accuracy is : 0.654434250764526\n",
      "For kernel = poly with degree = 5 with C value =  100 The accuracy is : 0.5443425076452599\n",
      "For kernel = poly with degree = 6 with C value =  100 The accuracy is : 0.6197757390417941\n",
      "For kernel = rbf With C value =  0.0001 The accuracy is : 0.6095820591233435\n",
      "For kernel = rbf With C value =  0.001 The accuracy is : 0.6095820591233435\n",
      "For kernel = rbf With C value =  0.01 The accuracy is : 0.6095820591233435\n",
      "For kernel = rbf With C value =  0.1 The accuracy is : 0.6146788990825688\n",
      "For kernel = rbf With C value =  1 The accuracy is : 0.6738022426095821\n",
      "For kernel = rbf With C value =  10 The accuracy is : 0.6758409785932722\n",
      "For kernel = rbf With C value =  20 The accuracy is : 0.6554536187563711\n",
      "For kernel = rbf With C value =  50 The accuracy is : 0.6289500509683996\n",
      "For kernel = rbf With C value =  100 The accuracy is : 0.6197757390417941\n",
      "For kernel = sigmoid With C value =  0.0001 The accuracy is : 0.6095820591233435\n",
      "For kernel = sigmoid With C value =  0.001 The accuracy is : 0.6095820591233435\n",
      "For kernel = sigmoid With C value =  0.01 The accuracy is : 0.6095820591233435\n",
      "For kernel = sigmoid With C value =  0.1 The accuracy is : 0.6106014271151886\n",
      "For kernel = sigmoid With C value =  1 The accuracy is : 0.5351681957186545\n",
      "For kernel = sigmoid With C value =  10 The accuracy is : 0.5127420998980632\n",
      "For kernel = sigmoid With C value =  20 The accuracy is : 0.5076452599388379\n",
      "For kernel = sigmoid With C value =  50 The accuracy is : 0.5117227319062182\n",
      "For kernel = sigmoid With C value =  100 The accuracy is : 0.508664627930683\n"
     ]
    }
   ],
   "source": [
    "\n",
    "for kernel_ in KERNELS:\n",
    "    for c in CVALUES:\n",
    "        if kernel_ == 'poly':\n",
    "            for degree_ in DEGREES:\n",
    "                clf = make_pipeline(StandardScaler(), SVC(kernel=kernel_, degree= degree_, C=c))\n",
    "                clf.fit(X_train, y_train)\n",
    "                y_pred_sb = clf.predict(X_test)\n",
    "                acc = accuracy_score(y_test, y_pred_sb)\n",
    "                print(\n",
    "                    \"For kernel =\",\n",
    "                    kernel_,\n",
    "                    \"with degree =\",\n",
    "                    degree_,\n",
    "                    \"with C value = \",\n",
    "                    c,\n",
    "                    \"The accuracy is :\",\n",
    "                    acc,\n",
    "                )\n",
    "        else:\n",
    "            clf = make_pipeline(StandardScaler(), SVC(kernel=kernel_, C=c))\n",
    "            clf.fit(X_train, y_train)\n",
    "            y_pred = clf.predict(X_test)\n",
    "            acc = accuracy_score(y_test, y_pred)\n",
    "            print(\n",
    "                \"For kernel =\",\n",
    "                kernel_,\n",
    "                \"With C value = \",\n",
    "                c,\n",
    "                \"The accuracy is :\",\n",
    "                acc,\n",
    "            )"
   ]
  },
  {
   "cell_type": "markdown",
   "metadata": {},
   "source": [
    "For kernel = rbf With C value =  10 The accuracy is : 0.6758409785932722\n"
   ]
  },
  {
   "cell_type": "code",
   "execution_count": 23,
   "metadata": {},
   "outputs": [
    {
     "name": "stdout",
     "output_type": "stream",
     "text": [
      "              precision    recall  f1-score   support\n",
      "\n",
      "           0       0.70      0.82      0.76       598\n",
      "           1       0.62      0.45      0.52       383\n",
      "\n",
      "    accuracy                           0.68       981\n",
      "   macro avg       0.66      0.64      0.64       981\n",
      "weighted avg       0.67      0.68      0.66       981\n",
      "\n"
     ]
    }
   ],
   "source": [
    "clf = make_pipeline(StandardScaler(), SVC(kernel='rbf', C=10))\n",
    "clf.fit(X_train, y_train)\n",
    "y_pred = clf.predict(X_test)\n",
    "print(classification_report(y_test, y_pred))"
   ]
  },
  {
   "cell_type": "code",
   "execution_count": 24,
   "metadata": {},
   "outputs": [
    {
     "data": {
      "image/png": "[encoded data removed]",
      "text/plain": [
       "<Figure size 640x480 with 2 Axes>"
      ]
     },
     "metadata": {},
     "output_type": "display_data"
    }
   ],
   "source": [
    "cm = confusion_matrix(y_test, y_pred)\n",
    "cm_display = ConfusionMatrixDisplay(cm).plot(cmap='Blues')"
   ]
  },
  {
   "cell_type": "code",
   "execution_count": null,
   "metadata": {},
   "outputs": [],
   "source": []
  }
 ],
 "metadata": {
  "kernelspec": {
   "display_name": "Python 3",
   "language": "python",
   "name": "python3"
  },
  "language_info": {
   "codemirror_mode": {
    "name": "ipython",
    "version": 3
   },
   "file_extension": ".py",
   "mimetype": "text/x-python",
   "name": "python",
   "nbconvert_exporter": "python",
   "pygments_lexer": "ipython3",
   "version": "3.10.12"
  }
 },
 "nbformat": 4,
 "nbformat_minor": 2
}
