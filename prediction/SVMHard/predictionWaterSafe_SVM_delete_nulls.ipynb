{
 "cells": [
  {
   "cell_type": "code",
   "execution_count": 1,
   "metadata": {},
   "outputs": [
    {
     "name": "stderr",
     "output_type": "stream",
     "text": [
      "/Users/pedro/miniforge3/envs/cv/lib/python3.10/site-packages/tqdm/auto.py:21: TqdmWarning: IProgress not found. Please update jupyter and ipywidgets. See https://ipywidgets.readthedocs.io/en/stable/user_install.html\n",
      "  from .autonotebook import tqdm as notebook_tqdm\n"
     ]
    }
   ],
   "source": [
    "import pandas as pd\n",
    "import numpy as np\n",
    "import matplotlib.pyplot as plt\n",
    "from sklearn.preprocessing import MinMaxScaler, StandardScaler\n",
    "from sklearn.model_selection import train_test_split\n",
    "from sklearn.neighbors import LocalOutlierFactor, NearestNeighbors\n",
    "from sklearn.decomposition import PCA\n",
    "from sklearn import cluster, manifold\n",
    "from sklearn.cluster import cluster_optics_dbscan\n",
    "from sklearn.metrics import silhouette_samples, silhouette_score, confusion_matrix, ConfusionMatrixDisplay, classification_report, accuracy_score\n",
    "from sklearn.cluster import KMeans\n",
    "from sklearn.metrics import silhouette_score\n",
    "from sklearn.svm import SVC\n",
    "from umap.umap_ import UMAP\n",
    "from sklearn.pipeline import make_pipeline\n",
    "import matplotlib.cm as cm\n",
    "import seaborn as sns"
   ]
  },
  {
   "cell_type": "code",
   "execution_count": 2,
   "metadata": {},
   "outputs": [
    {
     "data": {
      "text/plain": [
       "ph                 491\n",
       "Hardness             0\n",
       "Solids               0\n",
       "Chloramines          0\n",
       "Sulfate            781\n",
       "Conductivity         0\n",
       "Organic_carbon       0\n",
       "Trihalomethanes    162\n",
       "Turbidity            0\n",
       "Potability           0\n",
       "dtype: int64"
      ]
     },
     "execution_count": 2,
     "metadata": {},
     "output_type": "execute_result"
    }
   ],
   "source": [
    "data = pd.read_csv('../data/water_potability.csv')\n",
    "data.isnull().sum()\n"
   ]
  },
  {
   "cell_type": "code",
   "execution_count": 3,
   "metadata": {},
   "outputs": [
    {
     "data": {
      "text/html": [
       "<div>\n",
       "<style scoped>\n",
       "    .dataframe tbody tr th:only-of-type {\n",
       "        vertical-align: middle;\n",
       "    }\n",
       "\n",
       "    .dataframe tbody tr th {\n",
       "        vertical-align: top;\n",
       "    }\n",
       "\n",
       "    .dataframe thead th {\n",
       "        text-align: right;\n",
       "    }\n",
       "</style>\n",
       "<table border=\"1\" class=\"dataframe\">\n",
       "  <thead>\n",
       "    <tr style=\"text-align: right;\">\n",
       "      <th></th>\n",
       "      <th>ph</th>\n",
       "      <th>Hardness</th>\n",
       "      <th>Solids</th>\n",
       "      <th>Chloramines</th>\n",
       "      <th>Sulfate</th>\n",
       "      <th>Conductivity</th>\n",
       "      <th>Organic_carbon</th>\n",
       "      <th>Trihalomethanes</th>\n",
       "      <th>Turbidity</th>\n",
       "      <th>Potability</th>\n",
       "    </tr>\n",
       "  </thead>\n",
       "  <tbody>\n",
       "    <tr>\n",
       "      <th>3</th>\n",
       "      <td>8.316766</td>\n",
       "      <td>214.373394</td>\n",
       "      <td>22018.417441</td>\n",
       "      <td>8.059332</td>\n",
       "      <td>356.886136</td>\n",
       "      <td>363.266516</td>\n",
       "      <td>18.436524</td>\n",
       "      <td>100.341674</td>\n",
       "      <td>4.628771</td>\n",
       "      <td>0</td>\n",
       "    </tr>\n",
       "    <tr>\n",
       "      <th>4</th>\n",
       "      <td>9.092223</td>\n",
       "      <td>181.101509</td>\n",
       "      <td>17978.986339</td>\n",
       "      <td>6.546600</td>\n",
       "      <td>310.135738</td>\n",
       "      <td>398.410813</td>\n",
       "      <td>11.558279</td>\n",
       "      <td>31.997993</td>\n",
       "      <td>4.075075</td>\n",
       "      <td>0</td>\n",
       "    </tr>\n",
       "    <tr>\n",
       "      <th>5</th>\n",
       "      <td>5.584087</td>\n",
       "      <td>188.313324</td>\n",
       "      <td>28748.687739</td>\n",
       "      <td>7.544869</td>\n",
       "      <td>326.678363</td>\n",
       "      <td>280.467916</td>\n",
       "      <td>8.399735</td>\n",
       "      <td>54.917862</td>\n",
       "      <td>2.559708</td>\n",
       "      <td>0</td>\n",
       "    </tr>\n",
       "    <tr>\n",
       "      <th>6</th>\n",
       "      <td>10.223862</td>\n",
       "      <td>248.071735</td>\n",
       "      <td>28749.716544</td>\n",
       "      <td>7.513408</td>\n",
       "      <td>393.663396</td>\n",
       "      <td>283.651634</td>\n",
       "      <td>13.789695</td>\n",
       "      <td>84.603556</td>\n",
       "      <td>2.672989</td>\n",
       "      <td>0</td>\n",
       "    </tr>\n",
       "    <tr>\n",
       "      <th>7</th>\n",
       "      <td>8.635849</td>\n",
       "      <td>203.361523</td>\n",
       "      <td>13672.091764</td>\n",
       "      <td>4.563009</td>\n",
       "      <td>303.309771</td>\n",
       "      <td>474.607645</td>\n",
       "      <td>12.363817</td>\n",
       "      <td>62.798309</td>\n",
       "      <td>4.401425</td>\n",
       "      <td>0</td>\n",
       "    </tr>\n",
       "    <tr>\n",
       "      <th>...</th>\n",
       "      <td>...</td>\n",
       "      <td>...</td>\n",
       "      <td>...</td>\n",
       "      <td>...</td>\n",
       "      <td>...</td>\n",
       "      <td>...</td>\n",
       "      <td>...</td>\n",
       "      <td>...</td>\n",
       "      <td>...</td>\n",
       "      <td>...</td>\n",
       "    </tr>\n",
       "    <tr>\n",
       "      <th>3267</th>\n",
       "      <td>8.989900</td>\n",
       "      <td>215.047358</td>\n",
       "      <td>15921.412018</td>\n",
       "      <td>6.297312</td>\n",
       "      <td>312.931022</td>\n",
       "      <td>390.410231</td>\n",
       "      <td>9.899115</td>\n",
       "      <td>55.069304</td>\n",
       "      <td>4.613843</td>\n",
       "      <td>1</td>\n",
       "    </tr>\n",
       "    <tr>\n",
       "      <th>3268</th>\n",
       "      <td>6.702547</td>\n",
       "      <td>207.321086</td>\n",
       "      <td>17246.920347</td>\n",
       "      <td>7.708117</td>\n",
       "      <td>304.510230</td>\n",
       "      <td>329.266002</td>\n",
       "      <td>16.217303</td>\n",
       "      <td>28.878601</td>\n",
       "      <td>3.442983</td>\n",
       "      <td>1</td>\n",
       "    </tr>\n",
       "    <tr>\n",
       "      <th>3269</th>\n",
       "      <td>11.491011</td>\n",
       "      <td>94.812545</td>\n",
       "      <td>37188.826022</td>\n",
       "      <td>9.263166</td>\n",
       "      <td>258.930600</td>\n",
       "      <td>439.893618</td>\n",
       "      <td>16.172755</td>\n",
       "      <td>41.558501</td>\n",
       "      <td>4.369264</td>\n",
       "      <td>1</td>\n",
       "    </tr>\n",
       "    <tr>\n",
       "      <th>3270</th>\n",
       "      <td>6.069616</td>\n",
       "      <td>186.659040</td>\n",
       "      <td>26138.780191</td>\n",
       "      <td>7.747547</td>\n",
       "      <td>345.700257</td>\n",
       "      <td>415.886955</td>\n",
       "      <td>12.067620</td>\n",
       "      <td>60.419921</td>\n",
       "      <td>3.669712</td>\n",
       "      <td>1</td>\n",
       "    </tr>\n",
       "    <tr>\n",
       "      <th>3271</th>\n",
       "      <td>4.668102</td>\n",
       "      <td>193.681735</td>\n",
       "      <td>47580.991603</td>\n",
       "      <td>7.166639</td>\n",
       "      <td>359.948574</td>\n",
       "      <td>526.424171</td>\n",
       "      <td>13.894419</td>\n",
       "      <td>66.687695</td>\n",
       "      <td>4.435821</td>\n",
       "      <td>1</td>\n",
       "    </tr>\n",
       "  </tbody>\n",
       "</table>\n",
       "<p>2011 rows × 10 columns</p>\n",
       "</div>"
      ],
      "text/plain": [
       "             ph    Hardness        Solids  Chloramines     Sulfate  \\\n",
       "3      8.316766  214.373394  22018.417441     8.059332  356.886136   \n",
       "4      9.092223  181.101509  17978.986339     6.546600  310.135738   \n",
       "5      5.584087  188.313324  28748.687739     7.544869  326.678363   \n",
       "6     10.223862  248.071735  28749.716544     7.513408  393.663396   \n",
       "7      8.635849  203.361523  13672.091764     4.563009  303.309771   \n",
       "...         ...         ...           ...          ...         ...   \n",
       "3267   8.989900  215.047358  15921.412018     6.297312  312.931022   \n",
       "3268   6.702547  207.321086  17246.920347     7.708117  304.510230   \n",
       "3269  11.491011   94.812545  37188.826022     9.263166  258.930600   \n",
       "3270   6.069616  186.659040  26138.780191     7.747547  345.700257   \n",
       "3271   4.668102  193.681735  47580.991603     7.166639  359.948574   \n",
       "\n",
       "      Conductivity  Organic_carbon  Trihalomethanes  Turbidity  Potability  \n",
       "3       363.266516       18.436524       100.341674   4.628771           0  \n",
       "4       398.410813       11.558279        31.997993   4.075075           0  \n",
       "5       280.467916        8.399735        54.917862   2.559708           0  \n",
       "6       283.651634       13.789695        84.603556   2.672989           0  \n",
       "7       474.607645       12.363817        62.798309   4.401425           0  \n",
       "...            ...             ...              ...        ...         ...  \n",
       "3267    390.410231        9.899115        55.069304   4.613843           1  \n",
       "3268    329.266002       16.217303        28.878601   3.442983           1  \n",
       "3269    439.893618       16.172755        41.558501   4.369264           1  \n",
       "3270    415.886955       12.067620        60.419921   3.669712           1  \n",
       "3271    526.424171       13.894419        66.687695   4.435821           1  \n",
       "\n",
       "[2011 rows x 10 columns]"
      ]
     },
     "execution_count": 3,
     "metadata": {},
     "output_type": "execute_result"
    }
   ],
   "source": [
    "data_cleaned = data.dropna()\n",
    "data_cleaned"
   ]
  },
  {
   "cell_type": "code",
   "execution_count": 4,
   "metadata": {},
   "outputs": [],
   "source": [
    "Y = data_cleaned['Potability']\n",
    "X = data_cleaned.drop(columns=['Potability'])"
   ]
  },
  {
   "cell_type": "code",
   "execution_count": 5,
   "metadata": {},
   "outputs": [
    {
     "data": {
      "image/png": "[encoded data removed]",
      "text/plain": [
       "<Figure size 640x480 with 1 Axes>"
      ]
     },
     "metadata": {},
     "output_type": "display_data"
    }
   ],
   "source": [
    "data_minmax = MinMaxScaler().fit_transform(X.values)\n",
    "pca = PCA(0.95, whiten=True)\n",
    "data_pca = pca.fit_transform(X.values) \n",
    "lof = LocalOutlierFactor(n_neighbors=5, metric='euclidean')\n",
    "lof.fit_predict(data_pca)\n",
    "scores = lof.negative_outlier_factor_\n",
    "def plot_hist(X: pd.DataFrame, title: str) -> None:\n",
    "    \"\"\" Funcion que genera un grafico de los valores de LOF del dataset \"\"\"\n",
    "    x, bins, patches = plt.hist(x=X, bins='auto', rwidth=0.65, color='darkred')\n",
    "    plt.grid(axis='y')\n",
    "    plt.xlabel('LOF')\n",
    "    plt.ylabel('Frequency')\n",
    "    plt.title(title)\n",
    "    maxfreq = x.max()\n",
    "    plt.ylim(ymax=np.ceil(maxfreq))\n",
    "    \n",
    "plot_hist(scores, 'LOF')"
   ]
  },
  {
   "cell_type": "code",
   "execution_count": 6,
   "metadata": {},
   "outputs": [
    {
     "data": {
      "text/plain": [
       "0.01093983092988563"
      ]
     },
     "execution_count": 6,
     "metadata": {},
     "output_type": "execute_result"
    }
   ],
   "source": [
    "# Dado el grafico anterior, diremos que un umbral de corte sera aproximadamente -1.85\n",
    "def lof_threshold(v: float, scores: np.ndarray) -> float:\n",
    "    ''' Retorna la contaminacion del medio '''\n",
    "    N = len(scores)\n",
    "    points = scores[scores < v]\n",
    "    threshold = len(points)/N\n",
    "    return threshold \n",
    "\n",
    "lof_threshold(-2.25, scores) # Contaminacion del medio\n"
   ]
  },
  {
   "cell_type": "code",
   "execution_count": 7,
   "metadata": {},
   "outputs": [
    {
     "name": "stdout",
     "output_type": "stream",
     "text": [
      "(1989, 9) (1989,)\n"
     ]
    }
   ],
   "source": [
    "lof = LocalOutlierFactor(n_neighbors=5, metric='euclidean', contamination=0.01093983092988563)\n",
    "labels = lof.fit_predict(X.values)\n",
    "indices = list(np.where(labels==1)[0])\n",
    "X = X.iloc[indices]\n",
    "Y = Y.iloc[indices]\n",
    "print(X.shape, Y.shape)"
   ]
  },
  {
   "cell_type": "code",
   "execution_count": 8,
   "metadata": {},
   "outputs": [],
   "source": [
    "X_scaled = MinMaxScaler().fit_transform(X.values)"
   ]
  },
  {
   "cell_type": "code",
   "execution_count": 9,
   "metadata": {},
   "outputs": [
    {
     "data": {
      "image/png": "[encoded data removed]",
      "text/plain": [
       "<Figure size 640x480 with 1 Axes>"
      ]
     },
     "metadata": {},
     "output_type": "display_data"
    }
   ],
   "source": [
    "plt.scatter(X_scaled[:, 0], X_scaled[:, 1], s=2)\n",
    "plt.show()"
   ]
  },
  {
   "cell_type": "code",
   "execution_count": 10,
   "metadata": {},
   "outputs": [],
   "source": [
    "KERNELS = ['linear', 'poly', 'rbf', 'sigmoid'] \n",
    "DEGREES = [2, 3, 4, 5, 6] \n",
    "CVALUES = [0.0001, 0.001, 0.01, 0.1, 1, 10, 20, 50, 100]"
   ]
  },
  {
   "cell_type": "code",
   "execution_count": 11,
   "metadata": {},
   "outputs": [],
   "source": [
    "X_train, X_test, y_train, y_test = train_test_split(X_scaled, Y, test_size=0.3, stratify=Y)"
   ]
  },
  {
   "cell_type": "code",
   "execution_count": 12,
   "metadata": {},
   "outputs": [
    {
     "name": "stdout",
     "output_type": "stream",
     "text": [
      "For kernel = linear With C value =  0.0001 The accuracy is : 0.5979899497487438\n",
      "For kernel = linear With C value =  0.001 The accuracy is : 0.5979899497487438\n",
      "For kernel = linear With C value =  0.01 The accuracy is : 0.5979899497487438\n",
      "For kernel = linear With C value =  0.1 The accuracy is : 0.5979899497487438\n",
      "For kernel = linear With C value =  1 The accuracy is : 0.5979899497487438\n",
      "For kernel = linear With C value =  10 The accuracy is : 0.5979899497487438\n",
      "For kernel = linear With C value =  20 The accuracy is : 0.5979899497487438\n",
      "For kernel = linear With C value =  50 The accuracy is : 0.5979899497487438\n",
      "For kernel = linear With C value =  100 The accuracy is : 0.5979899497487438\n",
      "For kernel = poly with degree = 2 with C value =  0.0001 The accuracy is : 0.5979899497487438\n",
      "For kernel = poly with degree = 3 with C value =  0.0001 The accuracy is : 0.5979899497487438\n",
      "For kernel = poly with degree = 4 with C value =  0.0001 The accuracy is : 0.5979899497487438\n",
      "For kernel = poly with degree = 5 with C value =  0.0001 The accuracy is : 0.5979899497487438\n",
      "For kernel = poly with degree = 6 with C value =  0.0001 The accuracy is : 0.5979899497487438\n",
      "For kernel = poly with degree = 2 with C value =  0.001 The accuracy is : 0.5979899497487438\n",
      "For kernel = poly with degree = 3 with C value =  0.001 The accuracy is : 0.5979899497487438\n",
      "For kernel = poly with degree = 4 with C value =  0.001 The accuracy is : 0.5979899497487438\n",
      "For kernel = poly with degree = 5 with C value =  0.001 The accuracy is : 0.5979899497487438\n",
      "For kernel = poly with degree = 6 with C value =  0.001 The accuracy is : 0.5979899497487438\n",
      "For kernel = poly with degree = 2 with C value =  0.01 The accuracy is : 0.5979899497487438\n",
      "For kernel = poly with degree = 3 with C value =  0.01 The accuracy is : 0.5979899497487438\n",
      "For kernel = poly with degree = 4 with C value =  0.01 The accuracy is : 0.6030150753768844\n",
      "For kernel = poly with degree = 5 with C value =  0.01 The accuracy is : 0.6013400335008375\n",
      "For kernel = poly with degree = 6 with C value =  0.01 The accuracy is : 0.6214405360134003\n",
      "For kernel = poly with degree = 2 with C value =  0.1 The accuracy is : 0.6515912897822446\n",
      "For kernel = poly with degree = 3 with C value =  0.1 The accuracy is : 0.6046901172529313\n",
      "For kernel = poly with degree = 4 with C value =  0.1 The accuracy is : 0.661641541038526\n",
      "For kernel = poly with degree = 5 with C value =  0.1 The accuracy is : 0.6130653266331658\n",
      "For kernel = poly with degree = 6 with C value =  0.1 The accuracy is : 0.6415410385259631\n",
      "For kernel = poly with degree = 2 with C value =  1 The accuracy is : 0.6750418760469011\n",
      "For kernel = poly with degree = 3 with C value =  1 The accuracy is : 0.6180904522613065\n",
      "For kernel = poly with degree = 4 with C value =  1 The accuracy is : 0.6800670016750419\n",
      "For kernel = poly with degree = 5 with C value =  1 The accuracy is : 0.6147403685092128\n",
      "For kernel = poly with degree = 6 with C value =  1 The accuracy is : 0.6750418760469011\n",
      "For kernel = poly with degree = 2 with C value =  10 The accuracy is : 0.6767169179229481\n",
      "For kernel = poly with degree = 3 with C value =  10 The accuracy is : 0.592964824120603\n",
      "For kernel = poly with degree = 4 with C value =  10 The accuracy is : 0.6649916247906198\n",
      "For kernel = poly with degree = 5 with C value =  10 The accuracy is : 0.6030150753768844\n",
      "For kernel = poly with degree = 6 with C value =  10 The accuracy is : 0.6666666666666666\n",
      "For kernel = poly with degree = 2 with C value =  20 The accuracy is : 0.6767169179229481\n",
      "For kernel = poly with degree = 3 with C value =  20 The accuracy is : 0.5946398659966499\n",
      "For kernel = poly with degree = 4 with C value =  20 The accuracy is : 0.6398659966499163\n",
      "For kernel = poly with degree = 5 with C value =  20 The accuracy is : 0.5845896147403685\n",
      "For kernel = poly with degree = 6 with C value =  20 The accuracy is : 0.6599664991624791\n",
      "For kernel = poly with degree = 2 with C value =  50 The accuracy is : 0.6767169179229481\n",
      "For kernel = poly with degree = 3 with C value =  50 The accuracy is : 0.592964824120603\n",
      "For kernel = poly with degree = 4 with C value =  50 The accuracy is : 0.6465661641541038\n",
      "For kernel = poly with degree = 5 with C value =  50 The accuracy is : 0.5745393634840871\n",
      "For kernel = poly with degree = 6 with C value =  50 The accuracy is : 0.6566164154103853\n",
      "For kernel = poly with degree = 2 with C value =  100 The accuracy is : 0.6767169179229481\n",
      "For kernel = poly with degree = 3 with C value =  100 The accuracy is : 0.5912897822445561\n",
      "For kernel = poly with degree = 4 with C value =  100 The accuracy is : 0.6298157453936348\n",
      "For kernel = poly with degree = 5 with C value =  100 The accuracy is : 0.5544388609715243\n",
      "For kernel = poly with degree = 6 with C value =  100 The accuracy is : 0.628140703517588\n",
      "For kernel = rbf With C value =  0.0001 The accuracy is : 0.5979899497487438\n",
      "For kernel = rbf With C value =  0.001 The accuracy is : 0.5979899497487438\n",
      "For kernel = rbf With C value =  0.01 The accuracy is : 0.5979899497487438\n",
      "For kernel = rbf With C value =  0.1 The accuracy is : 0.5979899497487438\n",
      "For kernel = rbf With C value =  1 The accuracy is : 0.6800670016750419\n",
      "For kernel = rbf With C value =  10 The accuracy is : 0.678391959798995\n",
      "For kernel = rbf With C value =  20 The accuracy is : 0.6549413735343383\n",
      "For kernel = rbf With C value =  50 The accuracy is : 0.6365159128978225\n",
      "For kernel = rbf With C value =  100 The accuracy is : 0.626465661641541\n",
      "For kernel = sigmoid With C value =  0.0001 The accuracy is : 0.5979899497487438\n",
      "For kernel = sigmoid With C value =  0.001 The accuracy is : 0.5979899497487438\n",
      "For kernel = sigmoid With C value =  0.01 The accuracy is : 0.5979899497487438\n",
      "For kernel = sigmoid With C value =  0.1 The accuracy is : 0.5979899497487438\n",
      "For kernel = sigmoid With C value =  1 The accuracy is : 0.52428810720268\n",
      "For kernel = sigmoid With C value =  10 The accuracy is : 0.490787269681742\n",
      "For kernel = sigmoid With C value =  20 The accuracy is : 0.5159128978224455\n",
      "For kernel = sigmoid With C value =  50 The accuracy is : 0.48743718592964824\n",
      "For kernel = sigmoid With C value =  100 The accuracy is : 0.4723618090452261\n"
     ]
    }
   ],
   "source": [
    "for kernel_ in KERNELS:\n",
    "    for c in CVALUES:\n",
    "        if kernel_ == 'poly':\n",
    "            for degree_ in DEGREES:\n",
    "                clf = make_pipeline(StandardScaler(), SVC(kernel=kernel_, degree= degree_, C=c))\n",
    "                clf.fit(X_train, y_train)\n",
    "                y_pred_sb = clf.predict(X_test)\n",
    "                acc = accuracy_score(y_test, y_pred_sb)\n",
    "                print(\n",
    "                    \"For kernel =\",\n",
    "                    kernel_,\n",
    "                    \"with degree =\",\n",
    "                    degree_,\n",
    "                    \"with C value = \",\n",
    "                    c,\n",
    "                    \"The accuracy is :\",\n",
    "                    acc,\n",
    "                )\n",
    "        else:\n",
    "            clf = make_pipeline(StandardScaler(), SVC(kernel=kernel_, C=c))\n",
    "            clf.fit(X_train, y_train)\n",
    "            y_pred = clf.predict(X_test)\n",
    "            acc = accuracy_score(y_test, y_pred)\n",
    "            print(\n",
    "                \"For kernel =\",\n",
    "                kernel_,\n",
    "                \"With C value = \",\n",
    "                c,\n",
    "                \"The accuracy is :\",\n",
    "                acc,\n",
    "            )"
   ]
  },
  {
   "cell_type": "markdown",
   "metadata": {},
   "source": [
    "* For kernel = poly with degree = 4 with C value =  1 The accuracy is : 0.6800670016750419\n",
    "* For kernel = rbf With C value =  1 The accuracy is : 0.6800670016750419\n"
   ]
  },
  {
   "cell_type": "code",
   "execution_count": 23,
   "metadata": {},
   "outputs": [
    {
     "name": "stdout",
     "output_type": "stream",
     "text": [
      "              precision    recall  f1-score   support\n",
      "\n",
      "           0       0.68      0.89      0.77       357\n",
      "           1       0.69      0.37      0.48       240\n",
      "\n",
      "    accuracy                           0.68       597\n",
      "   macro avg       0.68      0.63      0.63       597\n",
      "weighted avg       0.68      0.68      0.65       597\n",
      "\n"
     ]
    }
   ],
   "source": [
    "# Utilizaremos RBF\n",
    "clf = make_pipeline(StandardScaler(), SVC(kernel='rbf', C=1))\n",
    "clf.fit(X_train, y_train)\n",
    "y_pred = clf.predict(X_test)\n",
    "print(classification_report(y_test, y_pred))"
   ]
  },
  {
   "cell_type": "code",
   "execution_count": 24,
   "metadata": {},
   "outputs": [
    {
     "data": {
      "image/png": "[encoded data removed]",
      "text/plain": [
       "<Figure size 640x480 with 2 Axes>"
      ]
     },
     "metadata": {},
     "output_type": "display_data"
    }
   ],
   "source": [
    "cm = confusion_matrix(y_test, y_pred)\n",
    "cm_display = ConfusionMatrixDisplay(cm).plot(cmap='Blues')"
   ]
  },
  {
   "cell_type": "code",
   "execution_count": 27,
   "metadata": {},
   "outputs": [
    {
     "name": "stdout",
     "output_type": "stream",
     "text": [
      "              precision    recall  f1-score   support\n",
      "\n",
      "           0       0.69      0.80      0.74       357\n",
      "           1       0.61      0.46      0.52       240\n",
      "\n",
      "    accuracy                           0.66       597\n",
      "   macro avg       0.65      0.63      0.63       597\n",
      "weighted avg       0.66      0.66      0.65       597\n",
      "\n"
     ]
    }
   ],
   "source": [
    "# poly degree 4\n",
    "clf = make_pipeline(StandardScaler(), SVC(kernel='poly', C=10, degree=4))\n",
    "clf.fit(X_train, y_train)\n",
    "y_pred = clf.predict(X_test)\n",
    "print(classification_report(y_test, y_pred))"
   ]
  },
  {
   "cell_type": "code",
   "execution_count": 28,
   "metadata": {},
   "outputs": [
    {
     "data": {
      "image/png": "[encoded data removed]",
      "text/plain": [
       "<Figure size 640x480 with 2 Axes>"
      ]
     },
     "metadata": {},
     "output_type": "display_data"
    }
   ],
   "source": [
    "cm = confusion_matrix(y_test, y_pred)\n",
    "cm_display = ConfusionMatrixDisplay(cm).plot(cmap='Blues')"
   ]
  },
  {
   "cell_type": "code",
   "execution_count": null,
   "metadata": {},
   "outputs": [],
   "source": []
  }
 ],
 "metadata": {
  "kernelspec": {
   "display_name": "Python 3",
   "language": "python",
   "name": "python3"
  },
  "language_info": {
   "codemirror_mode": {
    "name": "ipython",
    "version": 3
   },
   "file_extension": ".py",
   "mimetype": "text/x-python",
   "name": "python",
   "nbconvert_exporter": "python",
   "pygments_lexer": "ipython3",
   "version": "3.10.12"
  }
 },
 "nbformat": 4,
 "nbformat_minor": 2
}
